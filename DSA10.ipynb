{
 "cells": [
  {
   "cell_type": "code",
   "execution_count": 1,
   "id": "924168a6",
   "metadata": {},
   "outputs": [
    {
     "name": "stdout",
     "output_type": "stream",
     "text": [
      "smallest element is 1\n",
      "second smallest element is 9\n"
     ]
    }
   ],
   "source": [
    "arr = [111, 13, 25, 9, 34, 1]\n",
    "n = len(arr)\n",
    "\n",
    "arr.sort()\n",
    " \n",
    "print(\"smallest element is \"+str(arr[0]))\n",
    "print(\"second smallest element is \"+str(arr[1]))"
   ]
  },
  {
   "cell_type": "code",
   "execution_count": null,
   "id": "2b779763",
   "metadata": {},
   "outputs": [],
   "source": []
  }
 ],
 "metadata": {
  "kernelspec": {
   "display_name": "Python 3 (ipykernel)",
   "language": "python",
   "name": "python3"
  },
  "language_info": {
   "codemirror_mode": {
    "name": "ipython",
    "version": 3
   },
   "file_extension": ".py",
   "mimetype": "text/x-python",
   "name": "python",
   "nbconvert_exporter": "python",
   "pygments_lexer": "ipython3",
   "version": "3.10.6"
  }
 },
 "nbformat": 4,
 "nbformat_minor": 5
}
